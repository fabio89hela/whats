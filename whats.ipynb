import pandas as pd
import pywhatkit
import time

stringa_xls="C:\\Users\\tedon\\Desktop\\numeri.xlsx"
uploaded_file=stringa_xls
if uploaded_file is not None:
    df = pd.read_excel(uploaded_file)
    uploaded_image="C:\\Users\\tedon\\Desktop\\HG_logo.jpg"
    if uploaded_image is not None: 
        for k in range(len(df)):
            numero="+39"+str(df["Numero"][k])
            pywhatkit.sendwhats_image(numero, uploaded_image, "Ciao "+str(df["Nome"][k])+" a domani", 10, True, 15)
            time.sleep(5) 
